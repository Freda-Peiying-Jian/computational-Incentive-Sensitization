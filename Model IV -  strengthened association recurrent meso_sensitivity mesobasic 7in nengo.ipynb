{
 "cells": [
  {
   "cell_type": "code",
   "execution_count": 1,
   "metadata": {},
   "outputs": [
    {
     "data": {
      "text/html": [
       "\n",
       "                <div id=\"37d76302-6a36-4829-acdb-250a01399a3f\" style=\"\n",
       "                    width: 100%;\n",
       "                    border: 1px solid #cfcfcf;\n",
       "                    border-radius: 4px;\n",
       "                    text-align: center;\n",
       "                    position: relative;\">\n",
       "                  <div class=\"pb-text\" style=\"\n",
       "                      position: absolute;\n",
       "                      width: 100%;\">\n",
       "                    0%\n",
       "                  </div>\n",
       "                  <div class=\"pb-fill\" style=\"\n",
       "                      background-color: #bdd2e6;\n",
       "                      width: 0%;\">\n",
       "                    <style type=\"text/css\" scoped=\"scoped\">\n",
       "                        @keyframes pb-fill-anim {\n",
       "                            0% { background-position: 0 0; }\n",
       "                            100% { background-position: 100px 0; }\n",
       "                        }\n",
       "                    </style>\n",
       "                    &nbsp;\n",
       "                  </div>\n",
       "                </div>"
      ],
      "text/plain": [
       "HtmlProgressBar cannot be displayed. Please use the TerminalProgressBar. It can be enabled with `nengo.rc.set('progress', 'progress_bar', 'nengo.utils.progress.TerminalProgressBar')`."
      ]
     },
     "metadata": {},
     "output_type": "display_data"
    },
    {
     "data": {
      "application/javascript": [
       "\n",
       "              (function () {\n",
       "                  var root = document.getElementById('37d76302-6a36-4829-acdb-250a01399a3f');\n",
       "                  var text = root.getElementsByClassName('pb-text')[0];\n",
       "                  var fill = root.getElementsByClassName('pb-fill')[0];\n",
       "\n",
       "                  text.innerHTML = 'Build finished in 0:00:11.';\n",
       "                  \n",
       "            fill.style.width = '100%';\n",
       "            fill.style.animation = 'pb-fill-anim 2s linear infinite';\n",
       "            fill.style.backgroundSize = '100px 100%';\n",
       "            fill.style.backgroundImage = 'repeating-linear-gradient(' +\n",
       "                '90deg, #bdd2e6, #edf2f8 40%, #bdd2e6 80%, #bdd2e6)';\n",
       "        \n",
       "                  \n",
       "                fill.style.animation = 'none';\n",
       "                fill.style.backgroundImage = 'none';\n",
       "            \n",
       "              })();\n",
       "        "
      ],
      "text/plain": [
       "<IPython.core.display.Javascript object>"
      ]
     },
     "metadata": {},
     "output_type": "display_data"
    },
    {
     "data": {
      "text/html": [
       "\n",
       "                <div id=\"58e02e76-01b4-4b10-a3bc-4f249fca15ff\" style=\"\n",
       "                    width: 100%;\n",
       "                    border: 1px solid #cfcfcf;\n",
       "                    border-radius: 4px;\n",
       "                    text-align: center;\n",
       "                    position: relative;\">\n",
       "                  <div class=\"pb-text\" style=\"\n",
       "                      position: absolute;\n",
       "                      width: 100%;\">\n",
       "                    0%\n",
       "                  </div>\n",
       "                  <div class=\"pb-fill\" style=\"\n",
       "                      background-color: #bdd2e6;\n",
       "                      width: 0%;\">\n",
       "                    <style type=\"text/css\" scoped=\"scoped\">\n",
       "                        @keyframes pb-fill-anim {\n",
       "                            0% { background-position: 0 0; }\n",
       "                            100% { background-position: 100px 0; }\n",
       "                        }\n",
       "                    </style>\n",
       "                    &nbsp;\n",
       "                  </div>\n",
       "                </div>"
      ],
      "text/plain": [
       "HtmlProgressBar cannot be displayed. Please use the TerminalProgressBar. It can be enabled with `nengo.rc.set('progress', 'progress_bar', 'nengo.utils.progress.TerminalProgressBar')`."
      ]
     },
     "metadata": {},
     "output_type": "display_data"
    },
    {
     "data": {
      "application/javascript": [
       "\n",
       "              (function () {\n",
       "                  var root = document.getElementById('58e02e76-01b4-4b10-a3bc-4f249fca15ff');\n",
       "                  var text = root.getElementsByClassName('pb-text')[0];\n",
       "                  var fill = root.getElementsByClassName('pb-fill')[0];\n",
       "\n",
       "                  text.innerHTML = 'Simulation finished in 0:00:38.';\n",
       "                  \n",
       "            if (100.0 > 0.) {\n",
       "                fill.style.transition = 'width 0.1s linear';\n",
       "            } else {\n",
       "                fill.style.transition = 'none';\n",
       "            }\n",
       "\n",
       "            fill.style.width = '100.0%';\n",
       "            fill.style.animation = 'none';\n",
       "            fill.style.backgroundImage = 'none'\n",
       "        \n",
       "                  \n",
       "                fill.style.animation = 'none';\n",
       "                fill.style.backgroundImage = 'none';\n",
       "            \n",
       "              })();\n",
       "        "
      ],
      "text/plain": [
       "<IPython.core.display.Javascript object>"
      ]
     },
     "metadata": {},
     "output_type": "display_data"
    }
   ],
   "source": [
    "import nengo\n",
    "import pytry\n",
    "import numpy as np\n",
    "\n",
    "model = nengo.Network()\n",
    "period=0.75\n",
    "off_time=0.65\n",
    "n_presentations = 10\n",
    "\n",
    "cue_period=1.0\n",
    "cue_off_time=0.9\n",
    "n_cue_presentations = 8\n",
    "\n",
    "with model:\n",
    "    def drug_func(t):\n",
    "        if t%period < off_time:\n",
    "            return 0\n",
    "        else:\n",
    "            return 1\n",
    "    drug_intake = nengo.Node(drug_func)\n",
    "    p_drug_presence = nengo.Probe(drug_intake)\n",
    "    DA_activation = nengo.Ensemble(n_neurons=1000, dimensions=1)\n",
    "    nengo.Connection(drug_intake, DA_activation)\n",
    "    meso_sensitivity = nengo.Ensemble(n_neurons=1000, dimensions=1)\n",
    "    p_meso=nengo.Probe(meso_sensitivity, synapse=0.01)\n",
    "    nengo.Connection(DA_activation, meso_sensitivity, transform=0.1) \n",
    "    nengo.Connection(meso_sensitivity, meso_sensitivity,synapse =0.1, transform=0.95)\n",
    "    \n",
    "        ##### new #####\n",
    "    def cue_func(t):\n",
    "        if t%cue_period < cue_off_time:\n",
    "            return 0\n",
    "        else:\n",
    "            return 1           \n",
    "    stim = nengo.Node(cue_func)\n",
    "    p_stim_presence = nengo.Probe(stim)\n",
    "    \n",
    "    cue_presence = nengo.Ensemble(n_neurons=1000, dimensions=1)\n",
    "    p_cue = nengo.Probe(cue_presence)\n",
    "    nengo.Connection(stim, cue_presence)\n",
    "\n",
    "    cue_saliency = nengo.Ensemble(n_neurons=1000, dimensions=1)\n",
    "    p_cue_saliency = nengo.Probe(cue_saliency, synapse = 0.01)\n",
    "\n",
    "    def dopamine_func(t, x):\n",
    "        error = x[0]\n",
    "        if error >0:\n",
    "            error = 0\n",
    "        drug_rep = x[1]\n",
    "        scale = np.interp(drug_rep, [0, 1], [1, 10])\n",
    "        return error*scale\n",
    "    dop_mod = nengo.Node(dopamine_func, size_in=2, size_out=1)\n",
    "    error = nengo.Ensemble(n_neurons=1000, dimensions=1)\n",
    "    p_ass = nengo.Probe(error)\n",
    "    nengo.Connection(meso_sensitivity, dop_mod[1])\n",
    "    nengo.Connection(error, dop_mod[0])\n",
    "    \n",
    "    c = nengo.Connection(cue_presence, cue_saliency, transform=0, \n",
    "                         learning_rule_type=nengo.PES(learning_rate=0.00001))\n",
    "    nengo.Connection(cue_saliency, cue_saliency, synapse=0.1, transform=0.9)\n",
    "    #nengo.Connection(cue_presence, cue_saliency, transform=0.1)\n",
    "    #c = nengo.Connection(cue_saliency, cue_saliency, transform=0, \n",
    "                         #learning_rule_type=nengo.PES(learning_rate=0.00001))\n",
    "\n",
    "\n",
    "    nengo.Connection(cue_presence, error,transform=-1)\n",
    "    nengo.Connection(drug_intake, error)\n",
    "    nengo.Connection(dop_mod, c.learning_rule)\n",
    "    \n",
    "    \n",
    "    def structural_func(t, x):\n",
    "        drug = x[1]\n",
    "        cue = x[0]\n",
    "        \n",
    "        # map from (0,1) to (1, 10)\n",
    "        size = np.interp(cue, [0, 1], [1.0, 10.0])\n",
    "        \n",
    "        return size * drug\n",
    "    structural_mod = nengo.Node(structural_func, size_in=2, size_out=1)\n",
    "    \n",
    "    wanting = nengo.Ensemble(n_neurons=1000, dimensions=1)\n",
    "    p_wanting = nengo.Probe(wanting, synapse = 0.01)\n",
    "    nengo.Connection(cue_saliency, structural_mod[0], transform=0.1)\n",
    "    nengo.Connection(meso_sensitivity, structural_mod[1])\n",
    "    nengo.Connection(structural_mod, wanting)\n",
    "            \n",
    "sim = nengo.Simulator(model)\n",
    "sim.run(10)\n"
   ]
  },
  {
   "cell_type": "code",
   "execution_count": 2,
   "metadata": {
    "scrolled": false
   },
   "outputs": [
    {
     "data": {
      "image/png": "[encoded data removed]",
      "text/plain": [
       "<Figure size 432x288 with 1 Axes>"
      ]
     },
     "metadata": {
      "needs_background": "light"
     },
     "output_type": "display_data"
    }
   ],
   "source": [
    "%matplotlib inline\n",
    "import matplotlib.pyplot as plt\n",
    "\n",
    "plt.plot(sim.trange(), sim.data[p_drug_presence], label = 'drug')\n",
    "plt.plot(sim.trange(), sim.data[p_stim_presence], label = 'cue')\n",
    "plt.plot(sim.trange(), sim.data[p_cue_saliency], label = 'cue_s')\n",
    "plt.plot(sim.trange(), sim.data[p_wanting], label='wanting')\n",
    "plt.plot(sim.trange(), sim.data[p_meso], label='meso')\n",
    "#plt.plot(sim.trange(), sim.data[p_ass], label='asso')\n",
    "plt.xlabel('t(s)')\n",
    "plt.ylabel('neural activation level')\n",
    "\n",
    "plt.legend();\n"
   ]
  },
  {
   "cell_type": "code",
   "execution_count": null,
   "metadata": {},
   "outputs": [],
   "source": []
  }
 ],
 "metadata": {
  "kernelspec": {
   "display_name": "Python 3",
   "language": "python",
   "name": "python3"
  },
  "language_info": {
   "codemirror_mode": {
    "name": "ipython",
    "version": 3
   },
   "file_extension": ".py",
   "mimetype": "text/x-python",
   "name": "python",
   "nbconvert_exporter": "python",
   "pygments_lexer": "ipython3",
   "version": "3.7.3"
  }
 },
 "nbformat": 4,
 "nbformat_minor": 2
}
