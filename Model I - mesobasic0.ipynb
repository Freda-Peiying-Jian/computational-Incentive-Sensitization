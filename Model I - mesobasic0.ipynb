{
 "cells": [
  {
   "cell_type": "code",
   "execution_count": 1,
   "metadata": {},
   "outputs": [
    {
     "data": {
      "text/html": [
       "\n",
       "                <div id=\"1d810961-4fae-48b5-bc35-8837b677eab6\" style=\"\n",
       "                    width: 100%;\n",
       "                    border: 1px solid #cfcfcf;\n",
       "                    border-radius: 4px;\n",
       "                    text-align: center;\n",
       "                    position: relative;\">\n",
       "                  <div class=\"pb-text\" style=\"\n",
       "                      position: absolute;\n",
       "                      width: 100%;\">\n",
       "                    0%\n",
       "                  </div>\n",
       "                  <div class=\"pb-fill\" style=\"\n",
       "                      background-color: #bdd2e6;\n",
       "                      width: 0%;\">\n",
       "                    <style type=\"text/css\" scoped=\"scoped\">\n",
       "                        @keyframes pb-fill-anim {\n",
       "                            0% { background-position: 0 0; }\n",
       "                            100% { background-position: 100px 0; }\n",
       "                        }\n",
       "                    </style>\n",
       "                    &nbsp;\n",
       "                  </div>\n",
       "                </div>"
      ],
      "text/plain": [
       "HtmlProgressBar cannot be displayed. Please use the TerminalProgressBar. It can be enabled with `nengo.rc.set('progress', 'progress_bar', 'nengo.utils.progress.TerminalProgressBar')`."
      ]
     },
     "metadata": {},
     "output_type": "display_data"
    },
    {
     "data": {
      "application/javascript": [
       "\n",
       "              (function () {\n",
       "                  var root = document.getElementById('1d810961-4fae-48b5-bc35-8837b677eab6');\n",
       "                  var text = root.getElementsByClassName('pb-text')[0];\n",
       "                  var fill = root.getElementsByClassName('pb-fill')[0];\n",
       "\n",
       "                  text.innerHTML = 'Build finished in 0:00:03.';\n",
       "                  \n",
       "            fill.style.width = '100%';\n",
       "            fill.style.animation = 'pb-fill-anim 2s linear infinite';\n",
       "            fill.style.backgroundSize = '100px 100%';\n",
       "            fill.style.backgroundImage = 'repeating-linear-gradient(' +\n",
       "                '90deg, #bdd2e6, #edf2f8 40%, #bdd2e6 80%, #bdd2e6)';\n",
       "        \n",
       "                  \n",
       "                fill.style.animation = 'none';\n",
       "                fill.style.backgroundImage = 'none';\n",
       "            \n",
       "              })();\n",
       "        "
      ],
      "text/plain": [
       "<IPython.core.display.Javascript object>"
      ]
     },
     "metadata": {},
     "output_type": "display_data"
    },
    {
     "data": {
      "text/html": [
       "\n",
       "                <div id=\"a0306409-a67a-4e0d-a2f8-7d381b9f177f\" style=\"\n",
       "                    width: 100%;\n",
       "                    border: 1px solid #cfcfcf;\n",
       "                    border-radius: 4px;\n",
       "                    text-align: center;\n",
       "                    position: relative;\">\n",
       "                  <div class=\"pb-text\" style=\"\n",
       "                      position: absolute;\n",
       "                      width: 100%;\">\n",
       "                    0%\n",
       "                  </div>\n",
       "                  <div class=\"pb-fill\" style=\"\n",
       "                      background-color: #bdd2e6;\n",
       "                      width: 0%;\">\n",
       "                    <style type=\"text/css\" scoped=\"scoped\">\n",
       "                        @keyframes pb-fill-anim {\n",
       "                            0% { background-position: 0 0; }\n",
       "                            100% { background-position: 100px 0; }\n",
       "                        }\n",
       "                    </style>\n",
       "                    &nbsp;\n",
       "                  </div>\n",
       "                </div>"
      ],
      "text/plain": [
       "HtmlProgressBar cannot be displayed. Please use the TerminalProgressBar. It can be enabled with `nengo.rc.set('progress', 'progress_bar', 'nengo.utils.progress.TerminalProgressBar')`."
      ]
     },
     "metadata": {},
     "output_type": "display_data"
    },
    {
     "data": {
      "application/javascript": [
       "\n",
       "              (function () {\n",
       "                  var root = document.getElementById('a0306409-a67a-4e0d-a2f8-7d381b9f177f');\n",
       "                  var text = root.getElementsByClassName('pb-text')[0];\n",
       "                  var fill = root.getElementsByClassName('pb-fill')[0];\n",
       "\n",
       "                  text.innerHTML = 'Simulation finished in 0:00:17.';\n",
       "                  \n",
       "            if (100.0 > 0.) {\n",
       "                fill.style.transition = 'width 0.1s linear';\n",
       "            } else {\n",
       "                fill.style.transition = 'none';\n",
       "            }\n",
       "\n",
       "            fill.style.width = '100.0%';\n",
       "            fill.style.animation = 'none';\n",
       "            fill.style.backgroundImage = 'none'\n",
       "        \n",
       "                  \n",
       "                fill.style.animation = 'none';\n",
       "                fill.style.backgroundImage = 'none';\n",
       "            \n",
       "              })();\n",
       "        "
      ],
      "text/plain": [
       "<IPython.core.display.Javascript object>"
      ]
     },
     "metadata": {},
     "output_type": "display_data"
    },
    {
     "data": {
      "text/html": [
       "\n",
       "                <div id=\"32d5a69a-b3cd-4f15-84bb-d1705eea9d2a\" style=\"\n",
       "                    width: 100%;\n",
       "                    border: 1px solid #cfcfcf;\n",
       "                    border-radius: 4px;\n",
       "                    text-align: center;\n",
       "                    position: relative;\">\n",
       "                  <div class=\"pb-text\" style=\"\n",
       "                      position: absolute;\n",
       "                      width: 100%;\">\n",
       "                    0%\n",
       "                  </div>\n",
       "                  <div class=\"pb-fill\" style=\"\n",
       "                      background-color: #bdd2e6;\n",
       "                      width: 0%;\">\n",
       "                    <style type=\"text/css\" scoped=\"scoped\">\n",
       "                        @keyframes pb-fill-anim {\n",
       "                            0% { background-position: 0 0; }\n",
       "                            100% { background-position: 100px 0; }\n",
       "                        }\n",
       "                    </style>\n",
       "                    &nbsp;\n",
       "                  </div>\n",
       "                </div>"
      ],
      "text/plain": [
       "HtmlProgressBar cannot be displayed. Please use the TerminalProgressBar. It can be enabled with `nengo.rc.set('progress', 'progress_bar', 'nengo.utils.progress.TerminalProgressBar')`."
      ]
     },
     "metadata": {},
     "output_type": "display_data"
    },
    {
     "data": {
      "application/javascript": [
       "\n",
       "              (function () {\n",
       "                  var root = document.getElementById('32d5a69a-b3cd-4f15-84bb-d1705eea9d2a');\n",
       "                  var text = root.getElementsByClassName('pb-text')[0];\n",
       "                  var fill = root.getElementsByClassName('pb-fill')[0];\n",
       "\n",
       "                  text.innerHTML = 'Build finished in 0:00:04.';\n",
       "                  \n",
       "            fill.style.width = '100%';\n",
       "            fill.style.animation = 'pb-fill-anim 2s linear infinite';\n",
       "            fill.style.backgroundSize = '100px 100%';\n",
       "            fill.style.backgroundImage = 'repeating-linear-gradient(' +\n",
       "                '90deg, #bdd2e6, #edf2f8 40%, #bdd2e6 80%, #bdd2e6)';\n",
       "        \n",
       "                  \n",
       "                fill.style.animation = 'none';\n",
       "                fill.style.backgroundImage = 'none';\n",
       "            \n",
       "              })();\n",
       "        "
      ],
      "text/plain": [
       "<IPython.core.display.Javascript object>"
      ]
     },
     "metadata": {},
     "output_type": "display_data"
    },
    {
     "data": {
      "text/html": [
       "\n",
       "                <div id=\"1c1ae85a-7078-4098-94da-fe2fb0adb696\" style=\"\n",
       "                    width: 100%;\n",
       "                    border: 1px solid #cfcfcf;\n",
       "                    border-radius: 4px;\n",
       "                    text-align: center;\n",
       "                    position: relative;\">\n",
       "                  <div class=\"pb-text\" style=\"\n",
       "                      position: absolute;\n",
       "                      width: 100%;\">\n",
       "                    0%\n",
       "                  </div>\n",
       "                  <div class=\"pb-fill\" style=\"\n",
       "                      background-color: #bdd2e6;\n",
       "                      width: 0%;\">\n",
       "                    <style type=\"text/css\" scoped=\"scoped\">\n",
       "                        @keyframes pb-fill-anim {\n",
       "                            0% { background-position: 0 0; }\n",
       "                            100% { background-position: 100px 0; }\n",
       "                        }\n",
       "                    </style>\n",
       "                    &nbsp;\n",
       "                  </div>\n",
       "                </div>"
      ],
      "text/plain": [
       "HtmlProgressBar cannot be displayed. Please use the TerminalProgressBar. It can be enabled with `nengo.rc.set('progress', 'progress_bar', 'nengo.utils.progress.TerminalProgressBar')`."
      ]
     },
     "metadata": {},
     "output_type": "display_data"
    },
    {
     "data": {
      "application/javascript": [
       "\n",
       "              (function () {\n",
       "                  var root = document.getElementById('1c1ae85a-7078-4098-94da-fe2fb0adb696');\n",
       "                  var text = root.getElementsByClassName('pb-text')[0];\n",
       "                  var fill = root.getElementsByClassName('pb-fill')[0];\n",
       "\n",
       "                  text.innerHTML = 'Simulation finished in 0:00:20.';\n",
       "                  \n",
       "            if (100.0 > 0.) {\n",
       "                fill.style.transition = 'width 0.1s linear';\n",
       "            } else {\n",
       "                fill.style.transition = 'none';\n",
       "            }\n",
       "\n",
       "            fill.style.width = '100.0%';\n",
       "            fill.style.animation = 'none';\n",
       "            fill.style.backgroundImage = 'none'\n",
       "        \n",
       "                  \n",
       "                fill.style.animation = 'none';\n",
       "                fill.style.backgroundImage = 'none';\n",
       "            \n",
       "              })();\n",
       "        "
      ],
      "text/plain": [
       "<IPython.core.display.Javascript object>"
      ]
     },
     "metadata": {},
     "output_type": "display_data"
    },
    {
     "data": {
      "text/html": [
       "\n",
       "                <div id=\"1e1e27eb-31e4-4baf-afe8-5d65abcbd001\" style=\"\n",
       "                    width: 100%;\n",
       "                    border: 1px solid #cfcfcf;\n",
       "                    border-radius: 4px;\n",
       "                    text-align: center;\n",
       "                    position: relative;\">\n",
       "                  <div class=\"pb-text\" style=\"\n",
       "                      position: absolute;\n",
       "                      width: 100%;\">\n",
       "                    0%\n",
       "                  </div>\n",
       "                  <div class=\"pb-fill\" style=\"\n",
       "                      background-color: #bdd2e6;\n",
       "                      width: 0%;\">\n",
       "                    <style type=\"text/css\" scoped=\"scoped\">\n",
       "                        @keyframes pb-fill-anim {\n",
       "                            0% { background-position: 0 0; }\n",
       "                            100% { background-position: 100px 0; }\n",
       "                        }\n",
       "                    </style>\n",
       "                    &nbsp;\n",
       "                  </div>\n",
       "                </div>"
      ],
      "text/plain": [
       "HtmlProgressBar cannot be displayed. Please use the TerminalProgressBar. It can be enabled with `nengo.rc.set('progress', 'progress_bar', 'nengo.utils.progress.TerminalProgressBar')`."
      ]
     },
     "metadata": {},
     "output_type": "display_data"
    },
    {
     "data": {
      "application/javascript": [
       "\n",
       "              (function () {\n",
       "                  var root = document.getElementById('1e1e27eb-31e4-4baf-afe8-5d65abcbd001');\n",
       "                  var text = root.getElementsByClassName('pb-text')[0];\n",
       "                  var fill = root.getElementsByClassName('pb-fill')[0];\n",
       "\n",
       "                  text.innerHTML = 'Build finished in 0:00:04.';\n",
       "                  \n",
       "            fill.style.width = '100%';\n",
       "            fill.style.animation = 'pb-fill-anim 2s linear infinite';\n",
       "            fill.style.backgroundSize = '100px 100%';\n",
       "            fill.style.backgroundImage = 'repeating-linear-gradient(' +\n",
       "                '90deg, #bdd2e6, #edf2f8 40%, #bdd2e6 80%, #bdd2e6)';\n",
       "        \n",
       "                  \n",
       "                fill.style.animation = 'none';\n",
       "                fill.style.backgroundImage = 'none';\n",
       "            \n",
       "              })();\n",
       "        "
      ],
      "text/plain": [
       "<IPython.core.display.Javascript object>"
      ]
     },
     "metadata": {},
     "output_type": "display_data"
    },
    {
     "data": {
      "text/html": [
       "\n",
       "                <div id=\"89f3beda-4263-41c8-a7f7-cf3668449f03\" style=\"\n",
       "                    width: 100%;\n",
       "                    border: 1px solid #cfcfcf;\n",
       "                    border-radius: 4px;\n",
       "                    text-align: center;\n",
       "                    position: relative;\">\n",
       "                  <div class=\"pb-text\" style=\"\n",
       "                      position: absolute;\n",
       "                      width: 100%;\">\n",
       "                    0%\n",
       "                  </div>\n",
       "                  <div class=\"pb-fill\" style=\"\n",
       "                      background-color: #bdd2e6;\n",
       "                      width: 0%;\">\n",
       "                    <style type=\"text/css\" scoped=\"scoped\">\n",
       "                        @keyframes pb-fill-anim {\n",
       "                            0% { background-position: 0 0; }\n",
       "                            100% { background-position: 100px 0; }\n",
       "                        }\n",
       "                    </style>\n",
       "                    &nbsp;\n",
       "                  </div>\n",
       "                </div>"
      ],
      "text/plain": [
       "HtmlProgressBar cannot be displayed. Please use the TerminalProgressBar. It can be enabled with `nengo.rc.set('progress', 'progress_bar', 'nengo.utils.progress.TerminalProgressBar')`."
      ]
     },
     "metadata": {},
     "output_type": "display_data"
    },
    {
     "data": {
      "application/javascript": [
       "\n",
       "              (function () {\n",
       "                  var root = document.getElementById('89f3beda-4263-41c8-a7f7-cf3668449f03');\n",
       "                  var text = root.getElementsByClassName('pb-text')[0];\n",
       "                  var fill = root.getElementsByClassName('pb-fill')[0];\n",
       "\n",
       "                  text.innerHTML = 'Simulation finished in 0:00:17.';\n",
       "                  \n",
       "            if (100.0 > 0.) {\n",
       "                fill.style.transition = 'width 0.1s linear';\n",
       "            } else {\n",
       "                fill.style.transition = 'none';\n",
       "            }\n",
       "\n",
       "            fill.style.width = '100.0%';\n",
       "            fill.style.animation = 'none';\n",
       "            fill.style.backgroundImage = 'none'\n",
       "        \n",
       "                  \n",
       "                fill.style.animation = 'none';\n",
       "                fill.style.backgroundImage = 'none';\n",
       "            \n",
       "              })();\n",
       "        "
      ],
      "text/plain": [
       "<IPython.core.display.Javascript object>"
      ]
     },
     "metadata": {},
     "output_type": "display_data"
    },
    {
     "data": {
      "text/html": [
       "\n",
       "                <div id=\"5574b581-ff32-48d7-8b78-d2322031cbc2\" style=\"\n",
       "                    width: 100%;\n",
       "                    border: 1px solid #cfcfcf;\n",
       "                    border-radius: 4px;\n",
       "                    text-align: center;\n",
       "                    position: relative;\">\n",
       "                  <div class=\"pb-text\" style=\"\n",
       "                      position: absolute;\n",
       "                      width: 100%;\">\n",
       "                    0%\n",
       "                  </div>\n",
       "                  <div class=\"pb-fill\" style=\"\n",
       "                      background-color: #bdd2e6;\n",
       "                      width: 0%;\">\n",
       "                    <style type=\"text/css\" scoped=\"scoped\">\n",
       "                        @keyframes pb-fill-anim {\n",
       "                            0% { background-position: 0 0; }\n",
       "                            100% { background-position: 100px 0; }\n",
       "                        }\n",
       "                    </style>\n",
       "                    &nbsp;\n",
       "                  </div>\n",
       "                </div>"
      ],
      "text/plain": [
       "HtmlProgressBar cannot be displayed. Please use the TerminalProgressBar. It can be enabled with `nengo.rc.set('progress', 'progress_bar', 'nengo.utils.progress.TerminalProgressBar')`."
      ]
     },
     "metadata": {},
     "output_type": "display_data"
    },
    {
     "data": {
      "application/javascript": [
       "\n",
       "              (function () {\n",
       "                  var root = document.getElementById('5574b581-ff32-48d7-8b78-d2322031cbc2');\n",
       "                  var text = root.getElementsByClassName('pb-text')[0];\n",
       "                  var fill = root.getElementsByClassName('pb-fill')[0];\n",
       "\n",
       "                  text.innerHTML = 'Build finished in 0:00:03.';\n",
       "                  \n",
       "            fill.style.width = '100%';\n",
       "            fill.style.animation = 'pb-fill-anim 2s linear infinite';\n",
       "            fill.style.backgroundSize = '100px 100%';\n",
       "            fill.style.backgroundImage = 'repeating-linear-gradient(' +\n",
       "                '90deg, #bdd2e6, #edf2f8 40%, #bdd2e6 80%, #bdd2e6)';\n",
       "        \n",
       "                  \n",
       "                fill.style.animation = 'none';\n",
       "                fill.style.backgroundImage = 'none';\n",
       "            \n",
       "              })();\n",
       "        "
      ],
      "text/plain": [
       "<IPython.core.display.Javascript object>"
      ]
     },
     "metadata": {},
     "output_type": "display_data"
    },
    {
     "data": {
      "text/html": [
       "\n",
       "                <div id=\"a362557d-6362-4c21-b26e-924ced6f6e6e\" style=\"\n",
       "                    width: 100%;\n",
       "                    border: 1px solid #cfcfcf;\n",
       "                    border-radius: 4px;\n",
       "                    text-align: center;\n",
       "                    position: relative;\">\n",
       "                  <div class=\"pb-text\" style=\"\n",
       "                      position: absolute;\n",
       "                      width: 100%;\">\n",
       "                    0%\n",
       "                  </div>\n",
       "                  <div class=\"pb-fill\" style=\"\n",
       "                      background-color: #bdd2e6;\n",
       "                      width: 0%;\">\n",
       "                    <style type=\"text/css\" scoped=\"scoped\">\n",
       "                        @keyframes pb-fill-anim {\n",
       "                            0% { background-position: 0 0; }\n",
       "                            100% { background-position: 100px 0; }\n",
       "                        }\n",
       "                    </style>\n",
       "                    &nbsp;\n",
       "                  </div>\n",
       "                </div>"
      ],
      "text/plain": [
       "HtmlProgressBar cannot be displayed. Please use the TerminalProgressBar. It can be enabled with `nengo.rc.set('progress', 'progress_bar', 'nengo.utils.progress.TerminalProgressBar')`."
      ]
     },
     "metadata": {},
     "output_type": "display_data"
    },
    {
     "data": {
      "application/javascript": [
       "\n",
       "              (function () {\n",
       "                  var root = document.getElementById('a362557d-6362-4c21-b26e-924ced6f6e6e');\n",
       "                  var text = root.getElementsByClassName('pb-text')[0];\n",
       "                  var fill = root.getElementsByClassName('pb-fill')[0];\n",
       "\n",
       "                  text.innerHTML = 'Simulation finished in 0:00:16.';\n",
       "                  \n",
       "            if (100.0 > 0.) {\n",
       "                fill.style.transition = 'width 0.1s linear';\n",
       "            } else {\n",
       "                fill.style.transition = 'none';\n",
       "            }\n",
       "\n",
       "            fill.style.width = '100.0%';\n",
       "            fill.style.animation = 'none';\n",
       "            fill.style.backgroundImage = 'none'\n",
       "        \n",
       "                  \n",
       "                fill.style.animation = 'none';\n",
       "                fill.style.backgroundImage = 'none';\n",
       "            \n",
       "              })();\n",
       "        "
      ],
      "text/plain": [
       "<IPython.core.display.Javascript object>"
      ]
     },
     "metadata": {},
     "output_type": "display_data"
    }
   ],
   "source": [
    "import nengo\n",
    "import pytry\n",
    "\n",
    "\n",
    "model = nengo.Network()\n",
    "n_presentations = 3\n",
    "period=1\n",
    "off_time=0.4\n",
    "with model:\n",
    "    def stim_func(t):\n",
    "        if t%period < off_time:\n",
    "            return 0\n",
    "        else:\n",
    "            return 1\n",
    "    drug_presence = nengo.Node(stim_func)\n",
    "    p_drug_presence = nengo.Probe(drug_presence)\n",
    "\n",
    "    V_drug = nengo.Ensemble(n_neurons=1000, dimensions=2,\n",
    "                            #neuron_type=nengo.Direct()\n",
    "                           )\n",
    "    # saliancy value for drug cue (associative learning result\n",
    "\n",
    "    # connecting drug_intake with neural encoding of the saliency of drug\n",
    "    nengo.Connection(drug_presence, V_drug[0])\n",
    "    # creating memory component for V drug\n",
    "    def v_drug_recurr_func(x):\n",
    "        drug_presence_value = x[0]\n",
    "        stored_value = x[1]\n",
    "        if stored_value < 0:\n",
    "            stored_value = 0\n",
    "        if drug_presence_value < 0.1:\n",
    "            return stored_value - 0.02\n",
    "        else:\n",
    "            return stored_value + 0.04\n",
    "    nengo.Connection(V_drug, V_drug[1], function=v_drug_recurr_func,\n",
    "synapse=0.1, transform=1)\n",
    "    # connecting drug_cue with neural encoding of the saliency of drug cue\n",
    "\n",
    "    wanting = nengo.Ensemble(n_neurons=1000, dimensions=1)\n",
    "    # wanting --> how sensitized the mesolimbic system is\n",
    "\n",
    "    nengo.Connection(V_drug[1], wanting, transform=0.9)\n",
    "\n",
    "    p_wanting = nengo.Probe(wanting, synapse=0.01)\n",
    "\n",
    "sim = nengo.Simulator(model)\n",
    "sim.run(10)\n",
    "\n",
    "model2 = nengo.Network()\n",
    "with model2:\n",
    "    def stim_func_2(t):\n",
    "        if t%period < off_time:\n",
    "            return 0\n",
    "        else:\n",
    "            return 1\n",
    "    drug_presence_2 = nengo.Node(stim_func_2)\n",
    "    p_drug_presence_2 = nengo.Probe(drug_presence_2)\n",
    "\n",
    "    V_drug_2 = nengo.Ensemble(n_neurons=1000, dimensions=2,\n",
    "                            # neuron_type=nengo.Direct()\n",
    "                           )\n",
    "    # saliancy value for drug cue (associative learning result\n",
    "\n",
    "    # connecting drug_intake with neural encoding of the saliency of drug\n",
    "    nengo.Connection(drug_presence_2, V_drug_2[0])\n",
    "    # creating memory component for V drug\n",
    "    def v_drug_recurr_func_2(x):\n",
    "        drug_presence_value_2 = x[0]\n",
    "        stored_value_2 = x[1]\n",
    "        if stored_value_2 < 0:\n",
    "            stored_value_2 = 0\n",
    "        if drug_presence_value_2 < 0.1:\n",
    "            return stored_value_2 - 0.02\n",
    "        else:\n",
    "            return stored_value_2 + 0.04\n",
    "    nengo.Connection(V_drug_2, V_drug_2[1], function=v_drug_recurr_func_2,\n",
    "synapse=0.1, transform=0.9)\n",
    "    # connecting drug_cue with neural encoding of the saliency of drug cue\n",
    "\n",
    "    wanting_2 = nengo.Ensemble(n_neurons=1000, dimensions=1\n",
    "                               #neuron_type=nengo.Direct()\n",
    "                              )\n",
    "    # wanting --> how sensitized the mesolimbic system is\n",
    "\n",
    "    nengo.Connection(V_drug_2[1], wanting_2, transform=0.9)\n",
    "\n",
    "    p_wanting_2 = nengo.Probe(wanting_2, synapse=0.01)\n",
    "\n",
    "sim_2 = nengo.Simulator(model2)\n",
    "sim_2.run(10)\n",
    "\n",
    "model3 = nengo.Network()\n",
    "with model3:\n",
    "    def stim_func_3(t):\n",
    "        if t%period < off_time:\n",
    "            return 0\n",
    "        else:\n",
    "            return 1\n",
    "    drug_presence_3 = nengo.Node(stim_func_3)\n",
    "    p_drug_presence_3 = nengo.Probe(drug_presence_3)\n",
    "\n",
    "    V_drug_3 = nengo.Ensemble(n_neurons=1000, dimensions=3,\n",
    "                            # neuron_type=nengo.Direct()\n",
    "                           )\n",
    "    # saliancy value for drug cue (associative learning result\n",
    "\n",
    "    # connecting drug_intake with neural encoding of the saliency of drug\n",
    "    nengo.Connection(drug_presence_3, V_drug_3[0])\n",
    "    # creating memory component for V drug\n",
    "    def v_drug_recurr_func_3(x):\n",
    "        drug_presence_value_3 = x[0]\n",
    "        stored_value_3 = x[1]\n",
    "        if stored_value_3 < 0:\n",
    "            stored_value_3 = 0\n",
    "        if drug_presence_value_3 < 0.1:\n",
    "            return stored_value_3 - 0.01\n",
    "        else:\n",
    "            return stored_value_3 + 0.1\n",
    "    nengo.Connection(V_drug_3, V_drug_3[1], function=v_drug_recurr_func_3,\n",
    "synapse=0.1, transform=0.9)\n",
    "    # connecting drug_cue with neural encoding of the saliency of drug cue\n",
    "\n",
    "    wanting_3 = nengo.Ensemble(n_neurons=1000, dimensions=1\n",
    "                               #neuron_type=nengo.Direct()\n",
    "                              )\n",
    "    # wanting --> how sensitized the mesolimbic system is\n",
    "\n",
    "    nengo.Connection(V_drug_3[1], wanting_3, transform=0.9)\n",
    "\n",
    "    p_wanting_3 = nengo.Probe(wanting_3, synapse=0.01)\n",
    "\n",
    "sim_3 = nengo.Simulator(model3)\n",
    "sim_3.run(10)\n",
    "\n",
    "model4 = nengo.Network()\n",
    "with model4:\n",
    "    def stim_func_4(t):\n",
    "        if t%period < off_time:\n",
    "            return 0\n",
    "        else:\n",
    "            return 1\n",
    "    drug_presence_4 = nengo.Node(stim_func_4)\n",
    "    p_drug_presence_4 = nengo.Probe(drug_presence_4)\n",
    "\n",
    "    V_drug_4 = nengo.Ensemble(n_neurons=1000, dimensions=3,\n",
    "                            # neuron_type=nengo.Direct()\n",
    "                           )\n",
    "    # saliancy value for drug cue (associative learning result\n",
    "\n",
    "    # connecting drug_intake with neural encoding of the saliency of drug\n",
    "    nengo.Connection(drug_presence_4, V_drug_4[0])\n",
    "    # creating memory component for V drug\n",
    "    def v_drug_recurr_func_4(x):\n",
    "        drug_presence_value_4 = x[0]\n",
    "        stored_value_4 = x[1]\n",
    "        if stored_value_4 < 0:\n",
    "            stored_value_4 = 0\n",
    "        if drug_presence_value_4 < 0.1:\n",
    "            return stored_value_4 - 0.01\n",
    "        else:\n",
    "            return stored_value_4 + 0.1\n",
    "    nengo.Connection(V_drug_4, V_drug_4[1], function=v_drug_recurr_func_4,\n",
    "synapse=0.1, transform=0.85)\n",
    "    # connecting drug_cue with neural encoding of the saliency of drug cue\n",
    "\n",
    "    wanting_4 = nengo.Ensemble(n_neurons=1000, dimensions=1\n",
    "                               #neuron_type=nengo.Direct()\n",
    "                              )\n",
    "    # wanting --> how sensitized the mesolimbic system is\n",
    "\n",
    "    nengo.Connection(V_drug_4[1], wanting_4, transform=0.9)\n",
    "\n",
    "    p_wanting_4 = nengo.Probe(wanting_4, synapse=0.01)\n",
    "\n",
    "sim_4 = nengo.Simulator(model4)\n",
    "sim_4.run(10)\n",
    "\n",
    "    "
   ]
  },
  {
   "cell_type": "code",
   "execution_count": null,
   "metadata": {},
   "outputs": [],
   "source": []
  },
  {
   "cell_type": "code",
   "execution_count": 9,
   "metadata": {},
   "outputs": [
    {
     "data": {
      "text/plain": [
       "Text(0, 0.5, 'Wanting')"
      ]
     },
     "execution_count": 9,
     "metadata": {},
     "output_type": "execute_result"
    },
    {
     "data": {
      "image/png": "[encoded data removed]",
      "text/plain": [
       "<Figure size 432x288 with 1 Axes>"
      ]
     },
     "metadata": {
      "needs_background": "light"
     },
     "output_type": "display_data"
    }
   ],
   "source": [
    "%matplotlib inline\n",
    "import matplotlib.pyplot as plt\n",
    "\n",
    "plt.plot(sim.trange(), sim.data[p_drug_presence], label='Drug')\n",
    "plt.plot(sim.trange(), sim.data[p_wanting], label='Simulation1')\n",
    "plt.plot(sim_2.trange(), sim_2.data[p_wanting_2], label='Simulation2')\n",
    "plt.plot(sim_3.trange(), sim_3.data[p_wanting_3], label='Simulation3')\n",
    "plt.plot(sim_4.trange(), sim_4.data[p_wanting_4], label='Simulation4')\n",
    "plt.legend();\n",
    "plt.xlabel('t(s)')\n",
    "plt.ylabel('Wanting')"
   ]
  },
  {
   "cell_type": "code",
   "execution_count": null,
   "metadata": {},
   "outputs": [],
   "source": []
  }
 ],
 "metadata": {
  "kernelspec": {
   "display_name": "Python 3",
   "language": "python",
   "name": "python3"
  },
  "language_info": {
   "codemirror_mode": {
    "name": "ipython",
    "version": 3
   },
   "file_extension": ".py",
   "mimetype": "text/x-python",
   "name": "python",
   "nbconvert_exporter": "python",
   "pygments_lexer": "ipython3",
   "version": "3.7.3"
  }
 },
 "nbformat": 4,
 "nbformat_minor": 2
}
