{
 "cells": [
  {
   "cell_type": "code",
   "execution_count": 4,
   "metadata": {},
   "outputs": [
    {
     "data": {
      "text/html": [
       "\n",
       "                <div id=\"d2cf843f-3087-4ad3-9a02-7ca750856238\" style=\"\n",
       "                    width: 100%;\n",
       "                    border: 1px solid #cfcfcf;\n",
       "                    border-radius: 4px;\n",
       "                    text-align: center;\n",
       "                    position: relative;\">\n",
       "                  <div class=\"pb-text\" style=\"\n",
       "                      position: absolute;\n",
       "                      width: 100%;\">\n",
       "                    0%\n",
       "                  </div>\n",
       "                  <div class=\"pb-fill\" style=\"\n",
       "                      background-color: #bdd2e6;\n",
       "                      width: 0%;\">\n",
       "                    <style type=\"text/css\" scoped=\"scoped\">\n",
       "                        @keyframes pb-fill-anim {\n",
       "                            0% { background-position: 0 0; }\n",
       "                            100% { background-position: 100px 0; }\n",
       "                        }\n",
       "                    </style>\n",
       "                    &nbsp;\n",
       "                  </div>\n",
       "                </div>"
      ],
      "text/plain": [
       "HtmlProgressBar cannot be displayed. Please use the TerminalProgressBar. It can be enabled with `nengo.rc.set('progress', 'progress_bar', 'nengo.utils.progress.TerminalProgressBar')`."
      ]
     },
     "metadata": {},
     "output_type": "display_data"
    },
    {
     "data": {
      "application/javascript": [
       "\n",
       "              (function () {\n",
       "                  var root = document.getElementById('d2cf843f-3087-4ad3-9a02-7ca750856238');\n",
       "                  var text = root.getElementsByClassName('pb-text')[0];\n",
       "                  var fill = root.getElementsByClassName('pb-fill')[0];\n",
       "\n",
       "                  text.innerHTML = 'Build finished in 0:00:06.';\n",
       "                  \n",
       "            fill.style.width = '100%';\n",
       "            fill.style.animation = 'pb-fill-anim 2s linear infinite';\n",
       "            fill.style.backgroundSize = '100px 100%';\n",
       "            fill.style.backgroundImage = 'repeating-linear-gradient(' +\n",
       "                '90deg, #bdd2e6, #edf2f8 40%, #bdd2e6 80%, #bdd2e6)';\n",
       "        \n",
       "                  \n",
       "                fill.style.animation = 'none';\n",
       "                fill.style.backgroundImage = 'none';\n",
       "            \n",
       "              })();\n",
       "        "
      ],
      "text/plain": [
       "<IPython.core.display.Javascript object>"
      ]
     },
     "metadata": {},
     "output_type": "display_data"
    },
    {
     "data": {
      "text/html": [
       "\n",
       "                <div id=\"0c9818a5-1e99-445b-813c-03b44e8d00d6\" style=\"\n",
       "                    width: 100%;\n",
       "                    border: 1px solid #cfcfcf;\n",
       "                    border-radius: 4px;\n",
       "                    text-align: center;\n",
       "                    position: relative;\">\n",
       "                  <div class=\"pb-text\" style=\"\n",
       "                      position: absolute;\n",
       "                      width: 100%;\">\n",
       "                    0%\n",
       "                  </div>\n",
       "                  <div class=\"pb-fill\" style=\"\n",
       "                      background-color: #bdd2e6;\n",
       "                      width: 0%;\">\n",
       "                    <style type=\"text/css\" scoped=\"scoped\">\n",
       "                        @keyframes pb-fill-anim {\n",
       "                            0% { background-position: 0 0; }\n",
       "                            100% { background-position: 100px 0; }\n",
       "                        }\n",
       "                    </style>\n",
       "                    &nbsp;\n",
       "                  </div>\n",
       "                </div>"
      ],
      "text/plain": [
       "HtmlProgressBar cannot be displayed. Please use the TerminalProgressBar. It can be enabled with `nengo.rc.set('progress', 'progress_bar', 'nengo.utils.progress.TerminalProgressBar')`."
      ]
     },
     "metadata": {},
     "output_type": "display_data"
    },
    {
     "data": {
      "application/javascript": [
       "\n",
       "              (function () {\n",
       "                  var root = document.getElementById('0c9818a5-1e99-445b-813c-03b44e8d00d6');\n",
       "                  var text = root.getElementsByClassName('pb-text')[0];\n",
       "                  var fill = root.getElementsByClassName('pb-fill')[0];\n",
       "\n",
       "                  text.innerHTML = 'Simulation finished in 0:00:33.';\n",
       "                  \n",
       "            if (100.0 > 0.) {\n",
       "                fill.style.transition = 'width 0.1s linear';\n",
       "            } else {\n",
       "                fill.style.transition = 'none';\n",
       "            }\n",
       "\n",
       "            fill.style.width = '100.0%';\n",
       "            fill.style.animation = 'none';\n",
       "            fill.style.backgroundImage = 'none'\n",
       "        \n",
       "                  \n",
       "                fill.style.animation = 'none';\n",
       "                fill.style.backgroundImage = 'none';\n",
       "            \n",
       "              })();\n",
       "        "
      ],
      "text/plain": [
       "<IPython.core.display.Javascript object>"
      ]
     },
     "metadata": {},
     "output_type": "display_data"
    },
    {
     "data": {
      "text/html": [
       "\n",
       "                <div id=\"bbbe904b-a3f4-4a18-832b-e594dec54094\" style=\"\n",
       "                    width: 100%;\n",
       "                    border: 1px solid #cfcfcf;\n",
       "                    border-radius: 4px;\n",
       "                    text-align: center;\n",
       "                    position: relative;\">\n",
       "                  <div class=\"pb-text\" style=\"\n",
       "                      position: absolute;\n",
       "                      width: 100%;\">\n",
       "                    0%\n",
       "                  </div>\n",
       "                  <div class=\"pb-fill\" style=\"\n",
       "                      background-color: #bdd2e6;\n",
       "                      width: 0%;\">\n",
       "                    <style type=\"text/css\" scoped=\"scoped\">\n",
       "                        @keyframes pb-fill-anim {\n",
       "                            0% { background-position: 0 0; }\n",
       "                            100% { background-position: 100px 0; }\n",
       "                        }\n",
       "                    </style>\n",
       "                    &nbsp;\n",
       "                  </div>\n",
       "                </div>"
      ],
      "text/plain": [
       "HtmlProgressBar cannot be displayed. Please use the TerminalProgressBar. It can be enabled with `nengo.rc.set('progress', 'progress_bar', 'nengo.utils.progress.TerminalProgressBar')`."
      ]
     },
     "metadata": {},
     "output_type": "display_data"
    },
    {
     "data": {
      "application/javascript": [
       "\n",
       "              (function () {\n",
       "                  var root = document.getElementById('bbbe904b-a3f4-4a18-832b-e594dec54094');\n",
       "                  var text = root.getElementsByClassName('pb-text')[0];\n",
       "                  var fill = root.getElementsByClassName('pb-fill')[0];\n",
       "\n",
       "                  text.innerHTML = 'Build finished in 0:00:05.';\n",
       "                  \n",
       "            fill.style.width = '100%';\n",
       "            fill.style.animation = 'pb-fill-anim 2s linear infinite';\n",
       "            fill.style.backgroundSize = '100px 100%';\n",
       "            fill.style.backgroundImage = 'repeating-linear-gradient(' +\n",
       "                '90deg, #bdd2e6, #edf2f8 40%, #bdd2e6 80%, #bdd2e6)';\n",
       "        \n",
       "                  \n",
       "                fill.style.animation = 'none';\n",
       "                fill.style.backgroundImage = 'none';\n",
       "            \n",
       "              })();\n",
       "        "
      ],
      "text/plain": [
       "<IPython.core.display.Javascript object>"
      ]
     },
     "metadata": {},
     "output_type": "display_data"
    },
    {
     "data": {
      "text/html": [
       "\n",
       "                <div id=\"f8ab7036-0560-4d51-bd48-4dd58ada3465\" style=\"\n",
       "                    width: 100%;\n",
       "                    border: 1px solid #cfcfcf;\n",
       "                    border-radius: 4px;\n",
       "                    text-align: center;\n",
       "                    position: relative;\">\n",
       "                  <div class=\"pb-text\" style=\"\n",
       "                      position: absolute;\n",
       "                      width: 100%;\">\n",
       "                    0%\n",
       "                  </div>\n",
       "                  <div class=\"pb-fill\" style=\"\n",
       "                      background-color: #bdd2e6;\n",
       "                      width: 0%;\">\n",
       "                    <style type=\"text/css\" scoped=\"scoped\">\n",
       "                        @keyframes pb-fill-anim {\n",
       "                            0% { background-position: 0 0; }\n",
       "                            100% { background-position: 100px 0; }\n",
       "                        }\n",
       "                    </style>\n",
       "                    &nbsp;\n",
       "                  </div>\n",
       "                </div>"
      ],
      "text/plain": [
       "HtmlProgressBar cannot be displayed. Please use the TerminalProgressBar. It can be enabled with `nengo.rc.set('progress', 'progress_bar', 'nengo.utils.progress.TerminalProgressBar')`."
      ]
     },
     "metadata": {},
     "output_type": "display_data"
    },
    {
     "data": {
      "application/javascript": [
       "\n",
       "              (function () {\n",
       "                  var root = document.getElementById('f8ab7036-0560-4d51-bd48-4dd58ada3465');\n",
       "                  var text = root.getElementsByClassName('pb-text')[0];\n",
       "                  var fill = root.getElementsByClassName('pb-fill')[0];\n",
       "\n",
       "                  text.innerHTML = 'Simulation finished in 0:00:29.';\n",
       "                  \n",
       "            if (100.0 > 0.) {\n",
       "                fill.style.transition = 'width 0.1s linear';\n",
       "            } else {\n",
       "                fill.style.transition = 'none';\n",
       "            }\n",
       "\n",
       "            fill.style.width = '100.0%';\n",
       "            fill.style.animation = 'none';\n",
       "            fill.style.backgroundImage = 'none'\n",
       "        \n",
       "                  \n",
       "                fill.style.animation = 'none';\n",
       "                fill.style.backgroundImage = 'none';\n",
       "            \n",
       "              })();\n",
       "        "
      ],
      "text/plain": [
       "<IPython.core.display.Javascript object>"
      ]
     },
     "metadata": {},
     "output_type": "display_data"
    }
   ],
   "source": [
    "import nengo\n",
    "import pytry\n",
    "import numpy as np\n",
    "\n",
    "########################\n",
    "# transform in meso_sensitivity recurrence ensemble = 1, \n",
    "# transform in cue_salience recurrent = 0.9\n",
    "########################\n",
    "\n",
    "\n",
    "model = nengo.Network()\n",
    "#n_presentations = 3\n",
    "#period=1.0\n",
    "#off_time=0.4\n",
    "\n",
    "period=0.75\n",
    "off_time=0.65\n",
    "n_presentations = 6\n",
    "\n",
    "cue_period=1.0\n",
    "cue_off_time=0.9\n",
    "n_cue_presentations = 4\n",
    "\n",
    "with model:\n",
    "    def drug_func(t):\n",
    "        if t%period < off_time:\n",
    "            return 0\n",
    "        else:\n",
    "            return 1\n",
    "    drug_intake = nengo.Node(drug_func)\n",
    "    p_drug_intake = nengo.Probe(drug_intake)\n",
    "    DA_activation = nengo.Ensemble(n_neurons = 1000, dimensions=1) # neuroloical representation of drug\n",
    "    nengo.Connection(drug_intake, DA_activation)\n",
    "\n",
    "    meso_sensitivity = nengo.Ensemble(n_neurons=1000, dimensions=1)\n",
    "    nengo.Connection(DA_activation, meso_sensitivity, transform=0.1)   \n",
    "    nengo.Connection(meso_sensitivity, meso_sensitivity, synapse=0.1, transform=0.9)  \n",
    "    p_meso = nengo.Probe(meso_sensitivity, synapse = 0.01)\n",
    "    \n",
    "        ##### new #####\n",
    "    def cue_func(t):\n",
    "        if t%cue_period < cue_off_time:\n",
    "            return 0\n",
    "        else:\n",
    "            return 1  \n",
    "    stim = nengo.Node(cue_func)\n",
    "    p_stim_presence = nengo.Probe(stim)\n",
    "    \n",
    "    cue_presence = nengo.Ensemble(n_neurons=1000, dimensions=1)\n",
    "    #p_cue = nengo.Probe(cue_presence)\n",
    "    nengo.Connection(stim, cue_presence)\n",
    "\n",
    "    cue_salience = nengo.Ensemble(n_neurons=1000, dimensions=1)\n",
    "    p_cue_salience = nengo.Probe(cue_salience, synapse = 0.01)\n",
    "\n",
    "    \n",
    "    nengo.Connection(cue_presence, cue_salience, transform=0.1)   \n",
    "    nengo.Connection(cue_salience, cue_salience, synapse=0.1, transform=0.9)  \n",
    "            \n",
    "    def structural_func(t, x):\n",
    "        drug = x[0]\n",
    "        cue = x[1]\n",
    "        if drug < 0:\n",
    "            drug=0\n",
    "        if cue < 0:\n",
    "            cue = 0\n",
    "        # map from (0,1) to (1, 10)\n",
    "        size = np.interp(cue, [0, 1], [1.0, 10.0])\n",
    "        return size * drug\n",
    "    \n",
    "    structural_mod = nengo.Node(structural_func, size_in=2, size_out=1)\n",
    "    wanting = nengo.Ensemble(n_neurons=1000, dimensions=1)\n",
    "\n",
    "    nengo.Connection(meso_sensitivity, structural_mod[0])\n",
    "    nengo.Connection(cue_salience, structural_mod[1])\n",
    "    nengo.Connection(structural_mod, wanting)\n",
    "\n",
    "    p_wanting = nengo.Probe(wanting, synapse = 0.01)\n",
    "            \n",
    "            \n",
    "sim = nengo.Simulator(model)\n",
    "sim.run(10)\n",
    "\n",
    "################################## model 2 #####################################################\n",
    "model2 = nengo.Network()\n",
    "with model2:\n",
    "    def drug_func_2(t):\n",
    "        if t%period < off_time:\n",
    "            return 0\n",
    "        else:\n",
    "            return 1\n",
    "    drug_intake_2 = nengo.Node(drug_func_2)\n",
    "    p_drug_intake_2 = nengo.Probe(drug_intake_2)\n",
    "    DA_activation_2 = nengo.Ensemble(n_neurons = 1000, dimensions=1) # neuroloical representation of drug\n",
    "    nengo.Connection(drug_intake_2, DA_activation_2)\n",
    "\n",
    "    meso_sensitivity_2 = nengo.Ensemble(n_neurons=1000, dimensions=1)\n",
    "    nengo.Connection(DA_activation_2, meso_sensitivity_2, transform=0.1)   \n",
    "    nengo.Connection(meso_sensitivity_2, meso_sensitivity_2, synapse=0.1, transform=0.9)  \n",
    "    p_meso = nengo.Probe(meso_sensitivity_2, synapse = 0.01)\n",
    "    \n",
    "        ##### new #####\n",
    "    def cue_func_2(t):\n",
    "        if t%cue_period < cue_off_time:\n",
    "            return 0\n",
    "        else:\n",
    "            return 1           \n",
    "    stim_presence_2 = nengo.Node(cue_func_2)\n",
    "    p_stim_presence_2 = nengo.Probe(stim_presence_2)\n",
    "    cue_presence_2 = nengo.Ensemble(n_neurons=1000, dimensions=1)\n",
    "    #p_cue = nengo.Probe(cue_presence)\n",
    "    nengo.Connection(stim_presence_2, cue_presence_2)\n",
    "\n",
    "    cue_salience_2 = nengo.Ensemble(n_neurons=1000, dimensions=1)\n",
    "    p_cue_salience_2 = nengo.Probe(cue_salience_2, synapse=0.01)\n",
    "    \n",
    "    nengo.Connection(cue_presence_2, cue_salience_2, transform=0.1)   \n",
    "    nengo.Connection(cue_salience_2, cue_salience_2, synapse=0.1, transform=0.9)  \n",
    "            \n",
    "    def structural_func_2(t, x):\n",
    "        drug_2 = x[0]\n",
    "        cue_2 = x[1]\n",
    "        if drug_2<0:\n",
    "            drug_2=0\n",
    "        if cue_2<0:\n",
    "            cue_2=0\n",
    "        # map from (0,1) to (1, 10)\n",
    "        size_2 = np.interp(drug_2, [0, 1], [1.0, 10.0])\n",
    "        return size_2 * cue_2\n",
    "    \n",
    "    structural_mod_2 = nengo.Node(structural_func_2, size_in=2, size_out=1)\n",
    "    wanting_2 = nengo.Ensemble(n_neurons=1000, dimensions=1)\n",
    "\n",
    "    nengo.Connection(meso_sensitivity_2, structural_mod_2[0])\n",
    "    nengo.Connection(cue_salience_2, structural_mod_2[1])\n",
    "    nengo.Connection(structural_mod_2, wanting_2)\n",
    "\n",
    "    p_wanting_2 = nengo.Probe(wanting_2, synapse = 0.01)\n",
    "            \n",
    "            \n",
    "sim_2 = nengo.Simulator(model2)\n",
    "sim_2.run(10)\n"
   ]
  },
  {
   "cell_type": "code",
   "execution_count": 5,
   "metadata": {
    "scrolled": true
   },
   "outputs": [
    {
     "data": {
      "text/plain": [
       "Text(0, 0.5, 'wanting')"
      ]
     },
     "execution_count": 5,
     "metadata": {},
     "output_type": "execute_result"
    },
    {
     "data": {
      "image/png": "[encoded data removed]",
      "text/plain": [
       "<Figure size 432x288 with 1 Axes>"
      ]
     },
     "metadata": {
      "needs_background": "light"
     },
     "output_type": "display_data"
    }
   ],
   "source": [
    "%matplotlib inline\n",
    "import matplotlib.pyplot as plt\n",
    "\n",
    "plt.plot(sim.trange(), sim.data[p_drug_intake], label='drug')\n",
    "plt.plot(sim.trange(), sim.data[p_stim_presence], label='cue')\n",
    "#plt.plot(sim.trange(), sim.data[p_cue], label='cue1')\n",
    "plt.plot(sim.trange(), sim.data[p_wanting], label='Simulation1')\n",
    "#plt.plot(sim_2.trange(), sim_2.data[p_cue_2], label='cue2')\n",
    "plt.plot(sim_2.trange(), sim_2.data[p_wanting_2], label='Simulation2')\n",
    "plt.xlabel('t(s)')\n",
    "plt.legend();\n",
    "plt.ylabel('wanting')\n"
   ]
  },
  {
   "cell_type": "code",
   "execution_count": 6,
   "metadata": {},
   "outputs": [
    {
     "data": {
      "image/png": "[encoded data removed]",
      "text/plain": [
       "<Figure size 432x288 with 1 Axes>"
      ]
     },
     "metadata": {
      "needs_background": "light"
     },
     "output_type": "display_data"
    }
   ],
   "source": [
    "%matplotlib inline\n",
    "import matplotlib.pyplot as plt\n",
    "\n",
    "plt.plot(sim.trange(), sim.data[p_drug_intake], label='drug intake')\n",
    "plt.plot(sim.trange(), sim.data[p_stim_presence], label='cue presence')\n",
    "plt.plot(sim.trange(), sim.data[p_cue_salience], label='cue_salience1')\n",
    "#plt.plot(sim.trange(), sim.data[p_wanting], label='wanting')\n",
    "plt.plot(sim_2.trange(), sim_2.data[p_cue_salience_2], label='cue_salience2')\n",
    "#plt.plot(sim_2.trange(), sim_2.data[p_wanting_2], label='wanting2')\n",
    "\n",
    "plt.legend();"
   ]
  },
  {
   "cell_type": "code",
   "execution_count": null,
   "metadata": {},
   "outputs": [],
   "source": []
  },
  {
   "cell_type": "code",
   "execution_count": 1,
   "metadata": {},
   "outputs": [
    {
     "data": {
      "text/html": [
       "\n",
       "                <div id=\"ce553852-3e46-4527-9c53-6688a5f6f024\" style=\"\n",
       "                    width: 100%;\n",
       "                    border: 1px solid #cfcfcf;\n",
       "                    border-radius: 4px;\n",
       "                    text-align: center;\n",
       "                    position: relative;\">\n",
       "                  <div class=\"pb-text\" style=\"\n",
       "                      position: absolute;\n",
       "                      width: 100%;\">\n",
       "                    0%\n",
       "                  </div>\n",
       "                  <div class=\"pb-fill\" style=\"\n",
       "                      background-color: #bdd2e6;\n",
       "                      width: 0%;\">\n",
       "                    <style type=\"text/css\" scoped=\"scoped\">\n",
       "                        @keyframes pb-fill-anim {\n",
       "                            0% { background-position: 0 0; }\n",
       "                            100% { background-position: 100px 0; }\n",
       "                        }\n",
       "                    </style>\n",
       "                    &nbsp;\n",
       "                  </div>\n",
       "                </div>"
      ],
      "text/plain": [
       "HtmlProgressBar cannot be displayed. Please use the TerminalProgressBar. It can be enabled with `nengo.rc.set('progress', 'progress_bar', 'nengo.utils.progress.TerminalProgressBar')`."
      ]
     },
     "metadata": {},
     "output_type": "display_data"
    },
    {
     "data": {
      "application/javascript": [
       "\n",
       "              (function () {\n",
       "                  var root = document.getElementById('ce553852-3e46-4527-9c53-6688a5f6f024');\n",
       "                  var text = root.getElementsByClassName('pb-text')[0];\n",
       "                  var fill = root.getElementsByClassName('pb-fill')[0];\n",
       "\n",
       "                  text.innerHTML = 'Build finished in 0:00:02.';\n",
       "                  \n",
       "            fill.style.width = '100%';\n",
       "            fill.style.animation = 'pb-fill-anim 2s linear infinite';\n",
       "            fill.style.backgroundSize = '100px 100%';\n",
       "            fill.style.backgroundImage = 'repeating-linear-gradient(' +\n",
       "                '90deg, #bdd2e6, #edf2f8 40%, #bdd2e6 80%, #bdd2e6)';\n",
       "        \n",
       "                  \n",
       "                fill.style.animation = 'none';\n",
       "                fill.style.backgroundImage = 'none';\n",
       "            \n",
       "              })();\n",
       "        "
      ],
      "text/plain": [
       "<IPython.core.display.Javascript object>"
      ]
     },
     "metadata": {},
     "output_type": "display_data"
    },
    {
     "data": {
      "text/html": [
       "\n",
       "                <div id=\"067eeb67-f2e9-4e38-9fc7-9482d59dc860\" style=\"\n",
       "                    width: 100%;\n",
       "                    border: 1px solid #cfcfcf;\n",
       "                    border-radius: 4px;\n",
       "                    text-align: center;\n",
       "                    position: relative;\">\n",
       "                  <div class=\"pb-text\" style=\"\n",
       "                      position: absolute;\n",
       "                      width: 100%;\">\n",
       "                    0%\n",
       "                  </div>\n",
       "                  <div class=\"pb-fill\" style=\"\n",
       "                      background-color: #bdd2e6;\n",
       "                      width: 0%;\">\n",
       "                    <style type=\"text/css\" scoped=\"scoped\">\n",
       "                        @keyframes pb-fill-anim {\n",
       "                            0% { background-position: 0 0; }\n",
       "                            100% { background-position: 100px 0; }\n",
       "                        }\n",
       "                    </style>\n",
       "                    &nbsp;\n",
       "                  </div>\n",
       "                </div>"
      ],
      "text/plain": [
       "HtmlProgressBar cannot be displayed. Please use the TerminalProgressBar. It can be enabled with `nengo.rc.set('progress', 'progress_bar', 'nengo.utils.progress.TerminalProgressBar')`."
      ]
     },
     "metadata": {},
     "output_type": "display_data"
    },
    {
     "data": {
      "application/javascript": [
       "\n",
       "              (function () {\n",
       "                  var root = document.getElementById('067eeb67-f2e9-4e38-9fc7-9482d59dc860');\n",
       "                  var text = root.getElementsByClassName('pb-text')[0];\n",
       "                  var fill = root.getElementsByClassName('pb-fill')[0];\n",
       "\n",
       "                  text.innerHTML = 'Simulation finished in 0:00:26.';\n",
       "                  \n",
       "            if (100.0 > 0.) {\n",
       "                fill.style.transition = 'width 0.1s linear';\n",
       "            } else {\n",
       "                fill.style.transition = 'none';\n",
       "            }\n",
       "\n",
       "            fill.style.width = '100.0%';\n",
       "            fill.style.animation = 'none';\n",
       "            fill.style.backgroundImage = 'none'\n",
       "        \n",
       "                  \n",
       "                fill.style.animation = 'none';\n",
       "                fill.style.backgroundImage = 'none';\n",
       "            \n",
       "              })();\n",
       "        "
      ],
      "text/plain": [
       "<IPython.core.display.Javascript object>"
      ]
     },
     "metadata": {},
     "output_type": "display_data"
    },
    {
     "data": {
      "text/html": [
       "\n",
       "                <div id=\"5b772b27-85e5-43f3-bb6d-58f5aa6cced7\" style=\"\n",
       "                    width: 100%;\n",
       "                    border: 1px solid #cfcfcf;\n",
       "                    border-radius: 4px;\n",
       "                    text-align: center;\n",
       "                    position: relative;\">\n",
       "                  <div class=\"pb-text\" style=\"\n",
       "                      position: absolute;\n",
       "                      width: 100%;\">\n",
       "                    0%\n",
       "                  </div>\n",
       "                  <div class=\"pb-fill\" style=\"\n",
       "                      background-color: #bdd2e6;\n",
       "                      width: 0%;\">\n",
       "                    <style type=\"text/css\" scoped=\"scoped\">\n",
       "                        @keyframes pb-fill-anim {\n",
       "                            0% { background-position: 0 0; }\n",
       "                            100% { background-position: 100px 0; }\n",
       "                        }\n",
       "                    </style>\n",
       "                    &nbsp;\n",
       "                  </div>\n",
       "                </div>"
      ],
      "text/plain": [
       "HtmlProgressBar cannot be displayed. Please use the TerminalProgressBar. It can be enabled with `nengo.rc.set('progress', 'progress_bar', 'nengo.utils.progress.TerminalProgressBar')`."
      ]
     },
     "metadata": {},
     "output_type": "display_data"
    },
    {
     "data": {
      "application/javascript": [
       "\n",
       "              (function () {\n",
       "                  var root = document.getElementById('5b772b27-85e5-43f3-bb6d-58f5aa6cced7');\n",
       "                  var text = root.getElementsByClassName('pb-text')[0];\n",
       "                  var fill = root.getElementsByClassName('pb-fill')[0];\n",
       "\n",
       "                  text.innerHTML = 'Build finished in 0:00:01.';\n",
       "                  \n",
       "            fill.style.width = '100%';\n",
       "            fill.style.animation = 'pb-fill-anim 2s linear infinite';\n",
       "            fill.style.backgroundSize = '100px 100%';\n",
       "            fill.style.backgroundImage = 'repeating-linear-gradient(' +\n",
       "                '90deg, #bdd2e6, #edf2f8 40%, #bdd2e6 80%, #bdd2e6)';\n",
       "        \n",
       "                  \n",
       "                fill.style.animation = 'none';\n",
       "                fill.style.backgroundImage = 'none';\n",
       "            \n",
       "              })();\n",
       "        "
      ],
      "text/plain": [
       "<IPython.core.display.Javascript object>"
      ]
     },
     "metadata": {},
     "output_type": "display_data"
    },
    {
     "data": {
      "text/html": [
       "\n",
       "                <div id=\"d24438ef-649a-4fab-bba9-c2d175773dee\" style=\"\n",
       "                    width: 100%;\n",
       "                    border: 1px solid #cfcfcf;\n",
       "                    border-radius: 4px;\n",
       "                    text-align: center;\n",
       "                    position: relative;\">\n",
       "                  <div class=\"pb-text\" style=\"\n",
       "                      position: absolute;\n",
       "                      width: 100%;\">\n",
       "                    0%\n",
       "                  </div>\n",
       "                  <div class=\"pb-fill\" style=\"\n",
       "                      background-color: #bdd2e6;\n",
       "                      width: 0%;\">\n",
       "                    <style type=\"text/css\" scoped=\"scoped\">\n",
       "                        @keyframes pb-fill-anim {\n",
       "                            0% { background-position: 0 0; }\n",
       "                            100% { background-position: 100px 0; }\n",
       "                        }\n",
       "                    </style>\n",
       "                    &nbsp;\n",
       "                  </div>\n",
       "                </div>"
      ],
      "text/plain": [
       "HtmlProgressBar cannot be displayed. Please use the TerminalProgressBar. It can be enabled with `nengo.rc.set('progress', 'progress_bar', 'nengo.utils.progress.TerminalProgressBar')`."
      ]
     },
     "metadata": {},
     "output_type": "display_data"
    },
    {
     "data": {
      "application/javascript": [
       "\n",
       "              (function () {\n",
       "                  var root = document.getElementById('d24438ef-649a-4fab-bba9-c2d175773dee');\n",
       "                  var text = root.getElementsByClassName('pb-text')[0];\n",
       "                  var fill = root.getElementsByClassName('pb-fill')[0];\n",
       "\n",
       "                  text.innerHTML = 'Simulation finished in 0:00:26.';\n",
       "                  \n",
       "            if (100.0 > 0.) {\n",
       "                fill.style.transition = 'width 0.1s linear';\n",
       "            } else {\n",
       "                fill.style.transition = 'none';\n",
       "            }\n",
       "\n",
       "            fill.style.width = '100.0%';\n",
       "            fill.style.animation = 'none';\n",
       "            fill.style.backgroundImage = 'none'\n",
       "        \n",
       "                  \n",
       "                fill.style.animation = 'none';\n",
       "                fill.style.backgroundImage = 'none';\n",
       "            \n",
       "              })();\n",
       "        "
      ],
      "text/plain": [
       "<IPython.core.display.Javascript object>"
      ]
     },
     "metadata": {},
     "output_type": "display_data"
    }
   ],
   "source": [
    "import nengo\n",
    "import pytry\n",
    "import numpy as np\n",
    "\n",
    "########################\n",
    "# adjusted transform in meso_sensitivity ensemble to 0.9\n",
    "# added the non-linear growth of recurrence in meso_sensitivity\n",
    "########################\n",
    "model3 = nengo.Network(seed=5)\n",
    "period_3=0.75\n",
    "off_time_3=0.65\n",
    "n_presentations_3 = 6\n",
    "\n",
    "cue_period_3=1.0\n",
    "cue_off_time_3=0.9\n",
    "n_cue_presentations_3 = 4\n",
    "\n",
    "with model3:\n",
    "    def drug_func_3(t):\n",
    "        if t%period_3 < off_time_3:\n",
    "            return 0\n",
    "        else:\n",
    "            return 1\n",
    "    drug_intake_3 = nengo.Node(drug_func_3)\n",
    "    p_drug_intake_3 = nengo.Probe(drug_intake_3)\n",
    "    DA_activation_3 = nengo.Ensemble(n_neurons = 1000, dimensions=1) # neuroloical representation of drug\n",
    "    nengo.Connection(drug_intake_3, DA_activation_3)\n",
    "\n",
    "    ##### new #####\n",
    "    def meso_recurr_func_3(x):\n",
    "        DA = x[0]\n",
    "        stored_value = x[1]\n",
    "        if stored_value < 0:\n",
    "            stored_value = 0\n",
    "        if DA < 0.1:\n",
    "            return stored_value - 0.01\n",
    "        else:\n",
    "            return stored_value + 0.2\n",
    "    meso_sensitivity_3 = nengo.Ensemble(n_neurons=1000, dimensions=2)   \n",
    "    nengo.Connection(DA_activation_3, meso_sensitivity_3[0], transform=0.1)\n",
    "\n",
    "    nengo.Connection(meso_sensitivity_3, meso_sensitivity_3[1], function=meso_recurr_func_3,\n",
    "                     synapse =0.1, transform=0.9)\n",
    "    \n",
    "        ##### new #####\n",
    "    def cue_func_3(t):\n",
    "        if t%cue_period_3 < cue_off_time_3:\n",
    "            return 0\n",
    "        else:\n",
    "            return 1           \n",
    "    stim_presence_3 = nengo.Node(cue_func_3)\n",
    "    p_stim_presence_3 = nengo.Probe(stim_presence_3)\n",
    "    cue_presence_3 = nengo.Ensemble(n_neurons=1000, dimensions=1)\n",
    "    #p_cue = nengo.Probe(cue_presence)\n",
    "    nengo.Connection(stim_presence_3, cue_presence_3)\n",
    "\n",
    "    cue_salience_3 = nengo.Ensemble(n_neurons=1000, dimensions=1)\n",
    "    \n",
    "    nengo.Connection(cue_presence_3, cue_salience_3, transform=0.1)   \n",
    "    nengo.Connection(cue_salience_3, cue_salience_3, synapse=0.1, transform=0.9)  \n",
    "    p_cue_3 = nengo.Probe(cue_salience_3, synapse=0.01)\n",
    "\n",
    "    def structural_func_3(t, x):\n",
    "        drug = x[0]\n",
    "        cue = x[1]\n",
    "        if drug < 0:\n",
    "            drug=0\n",
    "        if cue < 0:\n",
    "            cue = 0\n",
    "        # map from (0,1) to (1, 10)\n",
    "        size = np.interp(cue, [0, 1], [1.0, 10.0])\n",
    "        return size * drug\n",
    "    \n",
    "    structural_mod_3 = nengo.Node(structural_func_3, size_in=2, size_out=1)\n",
    "    wanting_3 = nengo.Ensemble(n_neurons=1000, dimensions=1)\n",
    "\n",
    "    nengo.Connection(meso_sensitivity_3[1], structural_mod_3[0])\n",
    "    nengo.Connection(cue_salience_3, structural_mod_3[1])\n",
    "    nengo.Connection(structural_mod_3, wanting_3)\n",
    "\n",
    "    p_wanting_3 = nengo.Probe(wanting_3, synapse = 0.01)\n",
    "            \n",
    "            \n",
    "sim_3 = nengo.Simulator(model3)\n",
    "sim_3.run(10)\n",
    "\n",
    "\n",
    "\n",
    "############################### model 4 ##############################################\n",
    "model4 = nengo.Network(seed=5)\n",
    "with model4:\n",
    "    def drug_func_4(t):\n",
    "        if t%period_3 < off_time_3:\n",
    "            return 0\n",
    "        else:\n",
    "            return 1\n",
    "    drug_intake_4 = nengo.Node(drug_func_4)\n",
    "    p_drug_intake_4 = nengo.Probe(drug_intake_4)\n",
    "    DA_activation_4 = nengo.Ensemble(n_neurons = 1000, dimensions=1) # neuroloical representation of drug\n",
    "    nengo.Connection(drug_intake_4, DA_activation_4)\n",
    "\n",
    "    def meso_recurr_func_4(x):\n",
    "        DA = x[0]\n",
    "        stored_value = x[1]\n",
    "        if stored_value < 0:\n",
    "            stored_value = 0\n",
    "        if DA < 0.1:\n",
    "            return stored_value - 0.01\n",
    "        else:\n",
    "            return stored_value + 0.2\n",
    "    meso_sensitivity_4 = nengo.Ensemble(n_neurons=1000, dimensions=2)   \n",
    "    nengo.Connection(DA_activation_4, meso_sensitivity_4[0], transform=0.1)\n",
    "    nengo.Connection(meso_sensitivity_4, meso_sensitivity_4[1], function=meso_recurr_func_4,\n",
    "                     synapse =0.1, transform=0.9)  \n",
    "    p_meso = nengo.Probe(meso_sensitivity_4, synapse = 0.01)\n",
    "    \n",
    "        ##### new #####\n",
    "    def cue_func_4(t):\n",
    "        if t%cue_period_3 < cue_off_time_3:\n",
    "            return 0\n",
    "        else:\n",
    "            return 1           \n",
    "    stim_presence_4 = nengo.Node(cue_func_4)\n",
    "    p_stim_presence_4 = nengo.Probe(stim_presence_4)\n",
    "    \n",
    "    cue_presence_4 = nengo.Ensemble(n_neurons = 1000, dimensions=1)\n",
    "    nengo.Connection(stim_presence_4, cue_presence_4)\n",
    "    cue_salience_4 = nengo.Ensemble(n_neurons=1000, dimensions=1)\n",
    "    p_cue_4 = nengo.Probe(cue_salience_4, synapse=0.01)\n",
    "    \n",
    "    nengo.Connection(cue_presence_4, cue_salience_4, transform=0.1)   \n",
    "    nengo.Connection(cue_salience_4, cue_salience_4, synapse=0.1, transform=0.9)  \n",
    "            \n",
    "    def structural_func_4(t, x):\n",
    "        drug_4 = x[0]\n",
    "        cue_4 = x[1]\n",
    "        if drug_4<0:\n",
    "            drug_4=0\n",
    "        if cue_4<0:\n",
    "            cue_4=0\n",
    "        # map from (0,1) to (1, 10)\n",
    "        size_4 = np.interp(drug_4, [0, 1], [1.0, 10.0])\n",
    "        return size_4 * cue_4\n",
    "    \n",
    "    structural_mod_4 = nengo.Node(structural_func_4, size_in=2, size_out=1)\n",
    "    wanting_4 = nengo.Ensemble(n_neurons=1000, dimensions=1)\n",
    "\n",
    "    nengo.Connection(meso_sensitivity_4[1], structural_mod_4[0])\n",
    "    nengo.Connection(cue_salience_4, structural_mod_4[1])\n",
    "    nengo.Connection(structural_mod_4, wanting_4)\n",
    "\n",
    "    p_wanting_4 = nengo.Probe(wanting_4, synapse = 0.01)\n",
    "            \n",
    "            \n",
    "sim_4 = nengo.Simulator(model4)\n",
    "sim_4.run(10)\n"
   ]
  },
  {
   "cell_type": "code",
   "execution_count": 3,
   "metadata": {},
   "outputs": [
    {
     "data": {
      "text/plain": [
       "Text(0, 0.5, 'neural activation level')"
      ]
     },
     "execution_count": 3,
     "metadata": {},
     "output_type": "execute_result"
    },
    {
     "data": {
      "image/png": "[encoded data removed]",
      "text/plain": [
       "<Figure size 432x288 with 1 Axes>"
      ]
     },
     "metadata": {
      "needs_background": "light"
     },
     "output_type": "display_data"
    }
   ],
   "source": [
    "%matplotlib inline\n",
    "import matplotlib.pyplot as plt\n",
    "\n",
    "plt.plot(sim_3.trange(), sim_3.data[p_drug_intake_3], label='drug')\n",
    "plt.plot(sim_3.trange(), sim_3.data[p_stim_presence_3], label='cue')\n",
    "plt.plot(sim_3.trange(), sim_3.data[p_wanting_3], label='wanting1')\n",
    "plt.plot(sim_4.trange(), sim_4.data[p_wanting_4], label='wanting2')\n",
    "plt.plot(sim_3.trange(), sim_3.data[p_cue_3], label='cue_salience1')\n",
    "plt.legend()\n",
    "plt.xlabel('t(s)')\n",
    "plt.ylabel('neural activation level')\n",
    "\n",
    "\n"
   ]
  },
  {
   "cell_type": "code",
   "execution_count": null,
   "metadata": {},
   "outputs": [],
   "source": []
  }
 ],
 "metadata": {
  "kernelspec": {
   "display_name": "Python 3",
   "language": "python",
   "name": "python3"
  },
  "language_info": {
   "codemirror_mode": {
    "name": "ipython",
    "version": 3
   },
   "file_extension": ".py",
   "mimetype": "text/x-python",
   "name": "python",
   "nbconvert_exporter": "python",
   "pygments_lexer": "ipython3",
   "version": "3.7.3"
  }
 },
 "nbformat": 4,
 "nbformat_minor": 2
}
